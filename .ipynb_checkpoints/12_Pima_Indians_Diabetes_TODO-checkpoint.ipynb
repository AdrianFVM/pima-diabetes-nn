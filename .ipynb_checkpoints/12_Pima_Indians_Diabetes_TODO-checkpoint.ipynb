{
 "cells": [
  {
   "cell_type": "markdown",
   "metadata": {},
   "source": [
    "# Data \n",
    "\n",
    "The Pima Indians dataset is about the prediction of diabetes . This is a small dataset available from the UCI Machine Learning Repository. https://archive.ics.uci.edu/ml/datasets/Pima+Indians+Diabetes\n",
    "\n",
    "**Attribute Information:**\n",
    "\n",
    "1. Number of times pregnant\n",
    "2. Plasma glucose concentration a 2 hours in an oral glucose tolerance test\n",
    "3. Diastolic blood pressure (mm Hg)\n",
    "4. Triceps skin fold thickness (mm)\n",
    "5. 2-Hour serum insulin (mu U/ml)\n",
    "6. Body mass index (weight in kg/(height in m)^2)\n",
    "7. Diabetes pedigree function\n",
    "8. Age (years)\n",
    "9. Class variable (0 or 1) (diabetes mellitus)"
   ]
  },
  {
   "cell_type": "code",
   "execution_count": 1,
   "metadata": {},
   "outputs": [
    {
     "name": "stdout",
     "output_type": "stream",
     "text": [
      "--2019-06-05 12:11:47--  https://gist.githubusercontent.com/ktisha/c21e73a1bd1700294ef790c56c8aec1f/raw/819b69b5736821ccee93d05b51de0510bea00294/pima-indians-diabetes.csv\n",
      "Resolving gist.githubusercontent.com (gist.githubusercontent.com)... 151.101.112.133\n",
      "Connecting to gist.githubusercontent.com (gist.githubusercontent.com)|151.101.112.133|:443... connected.\n",
      "HTTP request sent, awaiting response... 200 OK\n",
      "Length: 23628 (23K) [text/plain]\n",
      "Saving to: ‘pima-indians-diabetes.csv’\n",
      "\n",
      "pima-indians-diabet 100%[===================>]  23.07K  --.-KB/s    in 0.01s   \n",
      "\n",
      "2019-06-05 12:11:47 (1.51 MB/s) - ‘pima-indians-diabetes.csv’ saved [23628/23628]\n",
      "\n"
     ]
    }
   ],
   "source": [
    "# Download the data\n",
    "! wget -O pima-indians-diabetes.csv https://gist.githubusercontent.com/ktisha/c21e73a1bd1700294ef790c56c8aec1f/raw/819b69b5736821ccee93d05b51de0510bea00294/pima-indians-diabetes.csv"
   ]
  },
  {
   "cell_type": "code",
   "execution_count": 2,
   "metadata": {},
   "outputs": [
    {
     "name": "stdout",
     "output_type": "stream",
     "text": [
      "total 156\r\n",
      "-rw-rw-r-- 1 s_villegasmazo18 s_villegasmazo18 132168 Jun  5 11:30 12_Pima_Indians_Diabetes_TODO.ipynb\r\n",
      "-rw-rw-r-- 1 s_villegasmazo18 s_villegasmazo18  23628 Jun  5 12:11 pima-indians-diabetes.csv\r\n"
     ]
    }
   ],
   "source": [
    "# check if the data is downloaded\n",
    "%ls -l"
   ]
  },
  {
   "cell_type": "code",
   "execution_count": 3,
   "metadata": {},
   "outputs": [
    {
     "name": "stderr",
     "output_type": "stream",
     "text": [
      "Using TensorFlow backend.\n"
     ]
    }
   ],
   "source": [
    "from sklearn.model_selection import train_test_split\n",
    "from keras.models import Sequential\n",
    "from keras.layers import Dense\n",
    "import matplotlib.pyplot as plt\n",
    "from matplotlib.ticker import MaxNLocator\n",
    "import numpy as np"
   ]
  },
  {
   "cell_type": "code",
   "execution_count": 4,
   "metadata": {},
   "outputs": [],
   "source": [
    "# fix random seed for reproducibility\n",
    "seed = 7\n",
    "np.random.seed(seed)"
   ]
  },
  {
   "cell_type": "code",
   "execution_count": 5,
   "metadata": {},
   "outputs": [],
   "source": [
    "# load pima indians dataset\n",
    "dataset = np.loadtxt(\"pima-indians-diabetes.csv\", delimiter=\",\")"
   ]
  },
  {
   "cell_type": "code",
   "execution_count": 6,
   "metadata": {},
   "outputs": [
    {
     "data": {
      "text/plain": [
       "(768, 9)"
      ]
     },
     "execution_count": 6,
     "metadata": {},
     "output_type": "execute_result"
    }
   ],
   "source": [
    "dataset.shape"
   ]
  },
  {
   "cell_type": "code",
   "execution_count": 7,
   "metadata": {},
   "outputs": [],
   "source": [
    "# split dataset into input (X) and output (Y) variables\n",
    "# output is the last column\n",
    "X = dataset[:,:8]\n",
    "y = dataset[:,8:9]"
   ]
  },
  {
   "cell_type": "code",
   "execution_count": 8,
   "metadata": {},
   "outputs": [
    {
     "name": "stdout",
     "output_type": "stream",
     "text": [
      "(768, 8)\n"
     ]
    }
   ],
   "source": [
    "# print the shape of x\n",
    "#\n",
    "# TODO\n",
    "print(X.shape)"
   ]
  },
  {
   "cell_type": "code",
   "execution_count": 9,
   "metadata": {},
   "outputs": [
    {
     "data": {
      "text/plain": [
       "8"
      ]
     },
     "execution_count": 9,
     "metadata": {},
     "output_type": "execute_result"
    }
   ],
   "source": [
    "# save to number of input dimensions in input_dim\n",
    "input_dim = X.shape[1]\n",
    "input_dim"
   ]
  },
  {
   "cell_type": "code",
   "execution_count": 10,
   "metadata": {},
   "outputs": [
    {
     "name": "stdout",
     "output_type": "stream",
     "text": [
      "(768, 1)\n"
     ]
    }
   ],
   "source": [
    "# shape of y\n",
    "# TODO\n",
    "print(y.shape)"
   ]
  },
  {
   "cell_type": "code",
   "execution_count": 11,
   "metadata": {},
   "outputs": [],
   "source": [
    "# Create training and test sets\n",
    "# Test size should be 15%\n",
    "# The test and train set should be stratified\n",
    "# use a random state (for reproducability) of 42\n",
    "# TODO\n",
    "X_train, X_test, y_train, y_test = train_test_split(X,y,test_size=0.15, random_state=42)"
   ]
  },
  {
   "cell_type": "code",
   "execution_count": 12,
   "metadata": {},
   "outputs": [
    {
     "name": "stdout",
     "output_type": "stream",
     "text": [
      "(116, 8)\n"
     ]
    }
   ],
   "source": [
    "# shape of X_test\n",
    "# TODO\n",
    "print(X_test.shape)"
   ]
  },
  {
   "cell_type": "markdown",
   "metadata": {},
   "source": [
    "# Model"
   ]
  },
  {
   "cell_type": "code",
   "execution_count": 13,
   "metadata": {},
   "outputs": [],
   "source": [
    "# 1. Create Sequential model\n",
    "# 2. + 3. Add two hidden dense layers with 12 and 8 nodes. Both should have Relu activations \n",
    "# 4. Add a final output layer\n",
    "# Think about how many nodes the final output layer should have and what activation function is appropiate\n",
    "# TODO\n",
    "model = Sequential()\n",
    "model.add(Dense(12,input_dim=input_dim, activation='relu'))\n",
    "model.add(Dense(8, activation='relu'))\n",
    "model.add(Dense(1,activation='sigmoid'))"
   ]
  },
  {
   "cell_type": "code",
   "execution_count": 14,
   "metadata": {},
   "outputs": [],
   "source": [
    "# Compile the model\n",
    "# Think about what loss function is appropiate\n",
    "# Use as the optimizer Adam\n",
    "# Track as an additional metric Accuracy\n",
    "# TODO\n",
    "model.compile(optimizer='adam',loss='binary_crossentropy',metrics=['accuracy'])"
   ]
  },
  {
   "cell_type": "code",
   "execution_count": 15,
   "metadata": {},
   "outputs": [
    {
     "name": "stdout",
     "output_type": "stream",
     "text": [
      "Train on 652 samples, validate on 116 samples\n",
      "Epoch 1/300\n",
      "652/652 [==============================] - 2s 3ms/step - loss: 5.5761 - acc: 0.6503 - val_loss: 4.8055 - val_acc: 0.6552\n",
      "Epoch 2/300\n",
      "652/652 [==============================] - 0s 621us/step - loss: 1.9921 - acc: 0.5951 - val_loss: 1.2342 - val_acc: 0.5345\n",
      "Epoch 3/300\n",
      "652/652 [==============================] - 0s 620us/step - loss: 0.8761 - acc: 0.6089 - val_loss: 0.7904 - val_acc: 0.6724\n",
      "Epoch 4/300\n",
      "652/652 [==============================] - 0s 607us/step - loss: 0.7456 - acc: 0.6534 - val_loss: 0.7610 - val_acc: 0.6638\n",
      "Epoch 5/300\n",
      "652/652 [==============================] - 0s 569us/step - loss: 0.7436 - acc: 0.6396 - val_loss: 0.7692 - val_acc: 0.6034\n",
      "Epoch 6/300\n",
      "652/652 [==============================] - 0s 592us/step - loss: 0.6932 - acc: 0.6380 - val_loss: 0.6888 - val_acc: 0.6638\n",
      "Epoch 7/300\n",
      "652/652 [==============================] - 0s 614us/step - loss: 0.6763 - acc: 0.6733 - val_loss: 0.6933 - val_acc: 0.6638\n",
      "Epoch 8/300\n",
      "652/652 [==============================] - 0s 599us/step - loss: 0.6441 - acc: 0.6871 - val_loss: 0.6684 - val_acc: 0.6638\n",
      "Epoch 9/300\n",
      "652/652 [==============================] - 0s 569us/step - loss: 0.6658 - acc: 0.6794 - val_loss: 0.6900 - val_acc: 0.7155\n",
      "Epoch 10/300\n",
      "652/652 [==============================] - 0s 600us/step - loss: 0.6449 - acc: 0.6687 - val_loss: 0.6396 - val_acc: 0.7500\n",
      "Epoch 11/300\n",
      "652/652 [==============================] - 0s 578us/step - loss: 0.6357 - acc: 0.6672 - val_loss: 0.6643 - val_acc: 0.6466\n",
      "Epoch 12/300\n",
      "652/652 [==============================] - 0s 613us/step - loss: 0.6319 - acc: 0.6748 - val_loss: 0.6240 - val_acc: 0.7155\n",
      "Epoch 13/300\n",
      "652/652 [==============================] - 0s 618us/step - loss: 0.6452 - acc: 0.6733 - val_loss: 0.6342 - val_acc: 0.7069\n",
      "Epoch 14/300\n",
      "652/652 [==============================] - 0s 619us/step - loss: 0.6287 - acc: 0.6764 - val_loss: 0.7015 - val_acc: 0.7155\n",
      "Epoch 15/300\n",
      "652/652 [==============================] - 0s 597us/step - loss: 0.6145 - acc: 0.6933 - val_loss: 0.6483 - val_acc: 0.6638\n",
      "Epoch 16/300\n",
      "652/652 [==============================] - 0s 593us/step - loss: 0.6026 - acc: 0.6933 - val_loss: 0.6191 - val_acc: 0.6983\n",
      "Epoch 17/300\n",
      "652/652 [==============================] - 0s 702us/step - loss: 0.5879 - acc: 0.7147 - val_loss: 0.6089 - val_acc: 0.6983\n",
      "Epoch 18/300\n",
      "652/652 [==============================] - 0s 598us/step - loss: 0.5958 - acc: 0.7009 - val_loss: 0.6094 - val_acc: 0.7500\n",
      "Epoch 19/300\n",
      "652/652 [==============================] - 0s 588us/step - loss: 0.5810 - acc: 0.7117 - val_loss: 0.6200 - val_acc: 0.7414\n",
      "Epoch 20/300\n",
      "652/652 [==============================] - 0s 563us/step - loss: 0.5883 - acc: 0.7086 - val_loss: 0.6110 - val_acc: 0.7241\n",
      "Epoch 21/300\n",
      "652/652 [==============================] - 0s 631us/step - loss: 0.5865 - acc: 0.7086 - val_loss: 0.6017 - val_acc: 0.7500\n",
      "Epoch 22/300\n",
      "652/652 [==============================] - 0s 606us/step - loss: 0.5908 - acc: 0.6948 - val_loss: 0.6283 - val_acc: 0.7069\n",
      "Epoch 23/300\n",
      "652/652 [==============================] - 0s 617us/step - loss: 0.5896 - acc: 0.7101 - val_loss: 0.6284 - val_acc: 0.7155\n",
      "Epoch 24/300\n",
      "652/652 [==============================] - 0s 609us/step - loss: 0.5886 - acc: 0.7025 - val_loss: 0.5937 - val_acc: 0.7328\n",
      "Epoch 25/300\n",
      "652/652 [==============================] - 0s 614us/step - loss: 0.5907 - acc: 0.7071 - val_loss: 0.6768 - val_acc: 0.6638\n",
      "Epoch 26/300\n",
      "652/652 [==============================] - 0s 594us/step - loss: 0.5797 - acc: 0.7163 - val_loss: 0.6237 - val_acc: 0.7069\n",
      "Epoch 27/300\n",
      "652/652 [==============================] - 0s 596us/step - loss: 0.5951 - acc: 0.7086 - val_loss: 0.5927 - val_acc: 0.7241\n",
      "Epoch 28/300\n",
      "652/652 [==============================] - 0s 615us/step - loss: 0.5720 - acc: 0.7224 - val_loss: 0.6419 - val_acc: 0.6638\n",
      "Epoch 29/300\n",
      "652/652 [==============================] - 0s 628us/step - loss: 0.6097 - acc: 0.6840 - val_loss: 0.6388 - val_acc: 0.7155\n",
      "Epoch 30/300\n",
      "652/652 [==============================] - 0s 603us/step - loss: 0.5580 - acc: 0.7178 - val_loss: 0.5920 - val_acc: 0.7328\n",
      "Epoch 31/300\n",
      "652/652 [==============================] - 0s 594us/step - loss: 0.5575 - acc: 0.7224 - val_loss: 0.6196 - val_acc: 0.7328\n",
      "Epoch 32/300\n",
      "652/652 [==============================] - 0s 584us/step - loss: 0.5491 - acc: 0.7163 - val_loss: 0.6477 - val_acc: 0.6466\n",
      "Epoch 33/300\n",
      "652/652 [==============================] - 0s 586us/step - loss: 0.5635 - acc: 0.7255 - val_loss: 0.5998 - val_acc: 0.7586\n",
      "Epoch 34/300\n",
      "652/652 [==============================] - 0s 602us/step - loss: 0.5516 - acc: 0.7316 - val_loss: 0.6238 - val_acc: 0.7155\n",
      "Epoch 35/300\n",
      "652/652 [==============================] - 0s 602us/step - loss: 0.5406 - acc: 0.7377 - val_loss: 0.6032 - val_acc: 0.7069\n",
      "Epoch 36/300\n",
      "652/652 [==============================] - 0s 632us/step - loss: 0.5575 - acc: 0.7117 - val_loss: 0.6621 - val_acc: 0.6379\n",
      "Epoch 37/300\n",
      "652/652 [==============================] - 0s 608us/step - loss: 0.5436 - acc: 0.7285 - val_loss: 0.6342 - val_acc: 0.6983\n",
      "Epoch 38/300\n",
      "652/652 [==============================] - 0s 629us/step - loss: 0.5346 - acc: 0.7408 - val_loss: 0.6134 - val_acc: 0.6983\n",
      "Epoch 39/300\n",
      "652/652 [==============================] - 0s 621us/step - loss: 0.5373 - acc: 0.7270 - val_loss: 0.6154 - val_acc: 0.7241\n",
      "Epoch 40/300\n",
      "652/652 [==============================] - 0s 615us/step - loss: 0.5252 - acc: 0.7316 - val_loss: 0.6156 - val_acc: 0.7241\n",
      "Epoch 41/300\n",
      "652/652 [==============================] - 0s 609us/step - loss: 0.5409 - acc: 0.7316 - val_loss: 0.6244 - val_acc: 0.7155\n",
      "Epoch 42/300\n",
      "652/652 [==============================] - 0s 614us/step - loss: 0.5224 - acc: 0.7515 - val_loss: 0.6265 - val_acc: 0.6897\n",
      "Epoch 43/300\n",
      "652/652 [==============================] - 0s 609us/step - loss: 0.5550 - acc: 0.7393 - val_loss: 0.6593 - val_acc: 0.6983\n",
      "Epoch 44/300\n",
      "652/652 [==============================] - 0s 614us/step - loss: 0.5445 - acc: 0.7270 - val_loss: 0.6249 - val_acc: 0.7328\n",
      "Epoch 45/300\n",
      "652/652 [==============================] - 0s 598us/step - loss: 0.5112 - acc: 0.7546 - val_loss: 0.7412 - val_acc: 0.6034\n",
      "Epoch 46/300\n",
      "652/652 [==============================] - 0s 582us/step - loss: 0.5381 - acc: 0.7255 - val_loss: 0.6269 - val_acc: 0.7155\n",
      "Epoch 47/300\n",
      "652/652 [==============================] - 0s 613us/step - loss: 0.5153 - acc: 0.7423 - val_loss: 0.6133 - val_acc: 0.7241\n",
      "Epoch 48/300\n",
      "652/652 [==============================] - 0s 580us/step - loss: 0.5172 - acc: 0.7454 - val_loss: 0.6402 - val_acc: 0.6897\n",
      "Epoch 49/300\n",
      "652/652 [==============================] - 0s 650us/step - loss: 0.5217 - acc: 0.7347 - val_loss: 0.6462 - val_acc: 0.6897\n",
      "Epoch 50/300\n",
      "652/652 [==============================] - 0s 597us/step - loss: 0.5478 - acc: 0.7331 - val_loss: 0.6243 - val_acc: 0.7414\n",
      "Epoch 51/300\n",
      "652/652 [==============================] - 0s 635us/step - loss: 0.5205 - acc: 0.7469 - val_loss: 0.6157 - val_acc: 0.7069\n",
      "Epoch 52/300\n",
      "652/652 [==============================] - 0s 639us/step - loss: 0.5369 - acc: 0.7147 - val_loss: 0.6531 - val_acc: 0.6724\n",
      "Epoch 53/300\n",
      "652/652 [==============================] - 0s 628us/step - loss: 0.5364 - acc: 0.7454 - val_loss: 0.7243 - val_acc: 0.6121\n",
      "Epoch 54/300\n",
      "652/652 [==============================] - 0s 613us/step - loss: 0.5548 - acc: 0.7239 - val_loss: 0.6084 - val_acc: 0.7069\n",
      "Epoch 55/300\n",
      "652/652 [==============================] - 0s 633us/step - loss: 0.5250 - acc: 0.7423 - val_loss: 0.6740 - val_acc: 0.7155\n",
      "Epoch 56/300\n",
      "652/652 [==============================] - 0s 584us/step - loss: 0.5242 - acc: 0.7423 - val_loss: 0.6563 - val_acc: 0.6810\n",
      "Epoch 57/300\n",
      "652/652 [==============================] - 0s 602us/step - loss: 0.5465 - acc: 0.7239 - val_loss: 0.6074 - val_acc: 0.6724\n",
      "Epoch 58/300\n",
      "652/652 [==============================] - 0s 562us/step - loss: 0.5503 - acc: 0.7316 - val_loss: 0.6632 - val_acc: 0.6552\n",
      "Epoch 59/300\n",
      "652/652 [==============================] - 0s 614us/step - loss: 0.5217 - acc: 0.7485 - val_loss: 0.6066 - val_acc: 0.7155\n",
      "Epoch 60/300\n",
      "652/652 [==============================] - 0s 623us/step - loss: 0.5118 - acc: 0.7485 - val_loss: 0.6262 - val_acc: 0.6724\n"
     ]
    },
    {
     "name": "stdout",
     "output_type": "stream",
     "text": [
      "Epoch 61/300\n",
      "652/652 [==============================] - 0s 625us/step - loss: 0.5319 - acc: 0.7362 - val_loss: 0.6291 - val_acc: 0.7241\n",
      "Epoch 62/300\n",
      "652/652 [==============================] - 0s 607us/step - loss: 0.5164 - acc: 0.7469 - val_loss: 0.6064 - val_acc: 0.7500\n",
      "Epoch 63/300\n",
      "652/652 [==============================] - 0s 604us/step - loss: 0.5228 - acc: 0.7485 - val_loss: 0.6097 - val_acc: 0.7155\n",
      "Epoch 64/300\n",
      "652/652 [==============================] - 0s 643us/step - loss: 0.5179 - acc: 0.7500 - val_loss: 0.6073 - val_acc: 0.7500\n",
      "Epoch 65/300\n",
      "652/652 [==============================] - 0s 622us/step - loss: 0.5177 - acc: 0.7531 - val_loss: 0.6076 - val_acc: 0.7414\n",
      "Epoch 66/300\n",
      "652/652 [==============================] - 0s 610us/step - loss: 0.5145 - acc: 0.7439 - val_loss: 0.6066 - val_acc: 0.7328\n",
      "Epoch 67/300\n",
      "652/652 [==============================] - 0s 635us/step - loss: 0.5146 - acc: 0.7454 - val_loss: 0.6089 - val_acc: 0.7155\n",
      "Epoch 68/300\n",
      "652/652 [==============================] - 0s 616us/step - loss: 0.5292 - acc: 0.7362 - val_loss: 0.6211 - val_acc: 0.7069\n",
      "Epoch 69/300\n",
      "652/652 [==============================] - 0s 625us/step - loss: 0.5015 - acc: 0.7592 - val_loss: 0.6166 - val_acc: 0.7241\n",
      "Epoch 70/300\n",
      "652/652 [==============================] - 0s 628us/step - loss: 0.5088 - acc: 0.7515 - val_loss: 0.6266 - val_acc: 0.6897\n",
      "Epoch 71/300\n",
      "652/652 [==============================] - 0s 585us/step - loss: 0.5217 - acc: 0.7423 - val_loss: 0.6568 - val_acc: 0.6724\n",
      "Epoch 72/300\n",
      "652/652 [==============================] - 0s 568us/step - loss: 0.5054 - acc: 0.7653 - val_loss: 0.6097 - val_acc: 0.6897\n",
      "Epoch 73/300\n",
      "652/652 [==============================] - 0s 607us/step - loss: 0.5082 - acc: 0.7469 - val_loss: 0.6236 - val_acc: 0.7069\n",
      "Epoch 74/300\n",
      "652/652 [==============================] - 0s 620us/step - loss: 0.5027 - acc: 0.7577 - val_loss: 0.6340 - val_acc: 0.7241\n",
      "Epoch 75/300\n",
      "652/652 [==============================] - 0s 584us/step - loss: 0.5125 - acc: 0.7439 - val_loss: 0.6503 - val_acc: 0.6810\n",
      "Epoch 76/300\n",
      "652/652 [==============================] - 0s 568us/step - loss: 0.5040 - acc: 0.7531 - val_loss: 0.6086 - val_acc: 0.7414\n",
      "Epoch 77/300\n",
      "652/652 [==============================] - 0s 550us/step - loss: 0.5117 - acc: 0.7485 - val_loss: 0.6308 - val_acc: 0.6810\n",
      "Epoch 78/300\n",
      "652/652 [==============================] - 0s 591us/step - loss: 0.4964 - acc: 0.7531 - val_loss: 0.6141 - val_acc: 0.7155\n",
      "Epoch 79/300\n",
      "652/652 [==============================] - 0s 589us/step - loss: 0.5007 - acc: 0.7638 - val_loss: 0.6641 - val_acc: 0.6638\n",
      "Epoch 80/300\n",
      "652/652 [==============================] - 0s 587us/step - loss: 0.5070 - acc: 0.7561 - val_loss: 0.6192 - val_acc: 0.6724\n",
      "Epoch 81/300\n",
      "652/652 [==============================] - 0s 584us/step - loss: 0.5097 - acc: 0.7439 - val_loss: 0.6164 - val_acc: 0.7241\n",
      "Epoch 82/300\n",
      "652/652 [==============================] - 0s 582us/step - loss: 0.5028 - acc: 0.7485 - val_loss: 0.6569 - val_acc: 0.6379\n",
      "Epoch 83/300\n",
      "652/652 [==============================] - 0s 587us/step - loss: 0.5322 - acc: 0.7224 - val_loss: 0.6180 - val_acc: 0.7328\n",
      "Epoch 84/300\n",
      "652/652 [==============================] - 0s 613us/step - loss: 0.5036 - acc: 0.7500 - val_loss: 0.6410 - val_acc: 0.6897\n",
      "Epoch 85/300\n",
      "652/652 [==============================] - 0s 654us/step - loss: 0.5214 - acc: 0.7347 - val_loss: 0.6289 - val_acc: 0.6466\n",
      "Epoch 86/300\n",
      "652/652 [==============================] - 0s 635us/step - loss: 0.5178 - acc: 0.7285 - val_loss: 0.6217 - val_acc: 0.7241\n",
      "Epoch 87/300\n",
      "652/652 [==============================] - 0s 649us/step - loss: 0.5061 - acc: 0.7592 - val_loss: 0.6157 - val_acc: 0.7328\n",
      "Epoch 88/300\n",
      "652/652 [==============================] - 0s 629us/step - loss: 0.4891 - acc: 0.7715 - val_loss: 0.6285 - val_acc: 0.7241\n",
      "Epoch 89/300\n",
      "652/652 [==============================] - 0s 639us/step - loss: 0.5025 - acc: 0.7515 - val_loss: 0.6210 - val_acc: 0.7241\n",
      "Epoch 90/300\n",
      "652/652 [==============================] - 0s 632us/step - loss: 0.5048 - acc: 0.7561 - val_loss: 0.6276 - val_acc: 0.6810\n",
      "Epoch 91/300\n",
      "652/652 [==============================] - 0s 613us/step - loss: 0.5068 - acc: 0.7607 - val_loss: 0.6291 - val_acc: 0.6724\n",
      "Epoch 92/300\n",
      "652/652 [==============================] - 0s 633us/step - loss: 0.5033 - acc: 0.7607 - val_loss: 0.6107 - val_acc: 0.7069\n",
      "Epoch 93/300\n",
      "652/652 [==============================] - 0s 641us/step - loss: 0.4962 - acc: 0.7393 - val_loss: 0.6207 - val_acc: 0.7069\n",
      "Epoch 94/300\n",
      "652/652 [==============================] - 0s 595us/step - loss: 0.4909 - acc: 0.7623 - val_loss: 0.6430 - val_acc: 0.6897\n",
      "Epoch 95/300\n",
      "652/652 [==============================] - 0s 586us/step - loss: 0.5173 - acc: 0.7577 - val_loss: 0.6191 - val_acc: 0.7241\n",
      "Epoch 96/300\n",
      "652/652 [==============================] - 0s 596us/step - loss: 0.5044 - acc: 0.7531 - val_loss: 0.6045 - val_acc: 0.7328\n",
      "Epoch 97/300\n",
      "652/652 [==============================] - 0s 572us/step - loss: 0.4949 - acc: 0.7592 - val_loss: 0.6258 - val_acc: 0.7069\n",
      "Epoch 98/300\n",
      "652/652 [==============================] - 0s 599us/step - loss: 0.4909 - acc: 0.7592 - val_loss: 0.6099 - val_acc: 0.6897\n",
      "Epoch 99/300\n",
      "652/652 [==============================] - 0s 613us/step - loss: 0.4886 - acc: 0.7531 - val_loss: 0.6196 - val_acc: 0.6552\n",
      "Epoch 100/300\n",
      "652/652 [==============================] - 0s 579us/step - loss: 0.5158 - acc: 0.7454 - val_loss: 0.6904 - val_acc: 0.6552\n",
      "Epoch 101/300\n",
      "652/652 [==============================] - 0s 599us/step - loss: 0.5178 - acc: 0.7285 - val_loss: 0.6008 - val_acc: 0.7241\n",
      "Epoch 102/300\n",
      "652/652 [==============================] - 0s 607us/step - loss: 0.5067 - acc: 0.7531 - val_loss: 0.6047 - val_acc: 0.7155\n",
      "Epoch 103/300\n",
      "652/652 [==============================] - 0s 538us/step - loss: 0.5125 - acc: 0.7577 - val_loss: 0.6275 - val_acc: 0.7155\n",
      "Epoch 104/300\n",
      "652/652 [==============================] - 0s 615us/step - loss: 0.5008 - acc: 0.7577 - val_loss: 0.6096 - val_acc: 0.6638\n",
      "Epoch 105/300\n",
      "652/652 [==============================] - 0s 568us/step - loss: 0.5077 - acc: 0.7515 - val_loss: 0.6135 - val_acc: 0.7155\n",
      "Epoch 106/300\n",
      "652/652 [==============================] - 0s 572us/step - loss: 0.4995 - acc: 0.7561 - val_loss: 0.6128 - val_acc: 0.6983\n",
      "Epoch 107/300\n",
      "652/652 [==============================] - 0s 587us/step - loss: 0.4914 - acc: 0.7669 - val_loss: 0.6479 - val_acc: 0.6638\n",
      "Epoch 108/300\n",
      "652/652 [==============================] - 0s 614us/step - loss: 0.4989 - acc: 0.7531 - val_loss: 0.6478 - val_acc: 0.6897\n",
      "Epoch 109/300\n",
      "652/652 [==============================] - 0s 630us/step - loss: 0.4900 - acc: 0.7653 - val_loss: 0.6220 - val_acc: 0.7155\n",
      "Epoch 110/300\n",
      "652/652 [==============================] - 0s 622us/step - loss: 0.4824 - acc: 0.7745 - val_loss: 0.6298 - val_acc: 0.6724\n",
      "Epoch 111/300\n",
      "652/652 [==============================] - 0s 566us/step - loss: 0.4906 - acc: 0.7577 - val_loss: 0.6219 - val_acc: 0.7069\n",
      "Epoch 112/300\n",
      "652/652 [==============================] - 0s 620us/step - loss: 0.4871 - acc: 0.7730 - val_loss: 0.6084 - val_acc: 0.7414\n",
      "Epoch 113/300\n",
      "652/652 [==============================] - 0s 634us/step - loss: 0.4890 - acc: 0.7638 - val_loss: 0.6273 - val_acc: 0.6638\n",
      "Epoch 114/300\n",
      "652/652 [==============================] - 0s 620us/step - loss: 0.4841 - acc: 0.7577 - val_loss: 0.6193 - val_acc: 0.6638\n",
      "Epoch 115/300\n",
      "652/652 [==============================] - 0s 618us/step - loss: 0.4810 - acc: 0.7761 - val_loss: 0.6493 - val_acc: 0.6552\n",
      "Epoch 116/300\n",
      "652/652 [==============================] - 0s 631us/step - loss: 0.4879 - acc: 0.7561 - val_loss: 0.6264 - val_acc: 0.6897\n",
      "Epoch 117/300\n",
      "652/652 [==============================] - 0s 615us/step - loss: 0.4940 - acc: 0.7699 - val_loss: 0.6381 - val_acc: 0.7328\n",
      "Epoch 118/300\n",
      "652/652 [==============================] - 0s 613us/step - loss: 0.4853 - acc: 0.7623 - val_loss: 0.6068 - val_acc: 0.7328\n",
      "Epoch 119/300\n",
      "652/652 [==============================] - 0s 626us/step - loss: 0.4812 - acc: 0.7577 - val_loss: 0.5979 - val_acc: 0.7155\n",
      "Epoch 120/300\n",
      "652/652 [==============================] - 0s 619us/step - loss: 0.4907 - acc: 0.7439 - val_loss: 0.6120 - val_acc: 0.7155\n",
      "Epoch 121/300\n"
     ]
    },
    {
     "name": "stdout",
     "output_type": "stream",
     "text": [
      "652/652 [==============================] - 0s 619us/step - loss: 0.4825 - acc: 0.7761 - val_loss: 0.6051 - val_acc: 0.6983\n",
      "Epoch 122/300\n",
      "652/652 [==============================] - 0s 601us/step - loss: 0.4747 - acc: 0.7730 - val_loss: 0.6419 - val_acc: 0.6897\n",
      "Epoch 123/300\n",
      "652/652 [==============================] - 0s 591us/step - loss: 0.4916 - acc: 0.7684 - val_loss: 0.6140 - val_acc: 0.6897\n",
      "Epoch 124/300\n",
      "652/652 [==============================] - 0s 593us/step - loss: 0.4710 - acc: 0.7623 - val_loss: 0.6087 - val_acc: 0.6810\n",
      "Epoch 125/300\n",
      "652/652 [==============================] - 0s 590us/step - loss: 0.4903 - acc: 0.7669 - val_loss: 0.6125 - val_acc: 0.7155\n",
      "Epoch 126/300\n",
      "652/652 [==============================] - 0s 622us/step - loss: 0.4837 - acc: 0.7592 - val_loss: 0.6056 - val_acc: 0.7328\n",
      "Epoch 127/300\n",
      "652/652 [==============================] - 0s 601us/step - loss: 0.4721 - acc: 0.7837 - val_loss: 0.6676 - val_acc: 0.6810\n",
      "Epoch 128/300\n",
      "652/652 [==============================] - 0s 598us/step - loss: 0.5027 - acc: 0.7561 - val_loss: 0.6138 - val_acc: 0.7414\n",
      "Epoch 129/300\n",
      "652/652 [==============================] - 0s 618us/step - loss: 0.4729 - acc: 0.7623 - val_loss: 0.6557 - val_acc: 0.6638\n",
      "Epoch 130/300\n",
      "652/652 [==============================] - 0s 615us/step - loss: 0.4881 - acc: 0.7684 - val_loss: 0.6004 - val_acc: 0.7241\n",
      "Epoch 131/300\n",
      "652/652 [==============================] - 0s 604us/step - loss: 0.4763 - acc: 0.7653 - val_loss: 0.6048 - val_acc: 0.7328\n",
      "Epoch 132/300\n",
      "652/652 [==============================] - 0s 566us/step - loss: 0.4848 - acc: 0.7623 - val_loss: 0.6178 - val_acc: 0.7328\n",
      "Epoch 133/300\n",
      "652/652 [==============================] - 0s 642us/step - loss: 0.4897 - acc: 0.7531 - val_loss: 0.6082 - val_acc: 0.6897\n",
      "Epoch 134/300\n",
      "652/652 [==============================] - 0s 634us/step - loss: 0.4798 - acc: 0.7592 - val_loss: 0.6081 - val_acc: 0.6983\n",
      "Epoch 135/300\n",
      "652/652 [==============================] - 0s 586us/step - loss: 0.4841 - acc: 0.7807 - val_loss: 0.5967 - val_acc: 0.7328\n",
      "Epoch 136/300\n",
      "652/652 [==============================] - 0s 575us/step - loss: 0.4702 - acc: 0.7822 - val_loss: 0.6098 - val_acc: 0.6897\n",
      "Epoch 137/300\n",
      "652/652 [==============================] - 0s 579us/step - loss: 0.4765 - acc: 0.7623 - val_loss: 0.6011 - val_acc: 0.7414\n",
      "Epoch 138/300\n",
      "652/652 [==============================] - 0s 666us/step - loss: 0.4630 - acc: 0.7837 - val_loss: 0.5976 - val_acc: 0.7155\n",
      "Epoch 139/300\n",
      "652/652 [==============================] - 0s 634us/step - loss: 0.4650 - acc: 0.7745 - val_loss: 0.6379 - val_acc: 0.7500\n",
      "Epoch 140/300\n",
      "652/652 [==============================] - 0s 599us/step - loss: 0.4875 - acc: 0.7623 - val_loss: 0.5945 - val_acc: 0.7241\n",
      "Epoch 141/300\n",
      "652/652 [==============================] - 0s 618us/step - loss: 0.4711 - acc: 0.7730 - val_loss: 0.6222 - val_acc: 0.6983\n",
      "Epoch 142/300\n",
      "652/652 [==============================] - 0s 630us/step - loss: 0.4779 - acc: 0.7669 - val_loss: 0.5877 - val_acc: 0.7241\n",
      "Epoch 143/300\n",
      "652/652 [==============================] - 0s 648us/step - loss: 0.4622 - acc: 0.7822 - val_loss: 0.5954 - val_acc: 0.7155\n",
      "Epoch 144/300\n",
      "652/652 [==============================] - 0s 632us/step - loss: 0.4923 - acc: 0.7607 - val_loss: 0.5974 - val_acc: 0.6983\n",
      "Epoch 145/300\n",
      "652/652 [==============================] - 0s 601us/step - loss: 0.4753 - acc: 0.7684 - val_loss: 0.6174 - val_acc: 0.6983\n",
      "Epoch 146/300\n",
      "652/652 [==============================] - 0s 632us/step - loss: 0.4751 - acc: 0.7730 - val_loss: 0.6023 - val_acc: 0.6983\n",
      "Epoch 147/300\n",
      "652/652 [==============================] - 0s 631us/step - loss: 0.4691 - acc: 0.7653 - val_loss: 0.5889 - val_acc: 0.7500\n",
      "Epoch 148/300\n",
      "652/652 [==============================] - 0s 629us/step - loss: 0.4714 - acc: 0.7699 - val_loss: 0.5923 - val_acc: 0.7414\n",
      "Epoch 149/300\n",
      "652/652 [==============================] - 0s 629us/step - loss: 0.4979 - acc: 0.7561 - val_loss: 0.5910 - val_acc: 0.7069\n",
      "Epoch 150/300\n",
      "652/652 [==============================] - 0s 619us/step - loss: 0.4747 - acc: 0.7684 - val_loss: 0.5869 - val_acc: 0.7500\n",
      "Epoch 151/300\n",
      "652/652 [==============================] - 0s 650us/step - loss: 0.4669 - acc: 0.7684 - val_loss: 0.5821 - val_acc: 0.7241\n",
      "Epoch 152/300\n",
      "652/652 [==============================] - 0s 636us/step - loss: 0.4957 - acc: 0.7531 - val_loss: 0.6025 - val_acc: 0.7328\n",
      "Epoch 153/300\n",
      "652/652 [==============================] - 0s 631us/step - loss: 0.4771 - acc: 0.7623 - val_loss: 0.5995 - val_acc: 0.7414\n",
      "Epoch 154/300\n",
      "652/652 [==============================] - 0s 628us/step - loss: 0.4660 - acc: 0.7730 - val_loss: 0.5886 - val_acc: 0.7328\n",
      "Epoch 155/300\n",
      "652/652 [==============================] - 0s 599us/step - loss: 0.4660 - acc: 0.7653 - val_loss: 0.5979 - val_acc: 0.7155\n",
      "Epoch 156/300\n",
      "652/652 [==============================] - 0s 586us/step - loss: 0.4687 - acc: 0.7791 - val_loss: 0.5876 - val_acc: 0.7500\n",
      "Epoch 157/300\n",
      "652/652 [==============================] - 0s 613us/step - loss: 0.4675 - acc: 0.7761 - val_loss: 0.5998 - val_acc: 0.6810\n",
      "Epoch 158/300\n",
      "652/652 [==============================] - 0s 593us/step - loss: 0.4868 - acc: 0.7653 - val_loss: 0.6062 - val_acc: 0.7155\n",
      "Epoch 159/300\n",
      "652/652 [==============================] - 0s 613us/step - loss: 0.4669 - acc: 0.7853 - val_loss: 0.5921 - val_acc: 0.7155\n",
      "Epoch 160/300\n",
      "652/652 [==============================] - 0s 597us/step - loss: 0.4636 - acc: 0.7822 - val_loss: 0.5799 - val_acc: 0.7500\n",
      "Epoch 161/300\n",
      "652/652 [==============================] - 0s 586us/step - loss: 0.4562 - acc: 0.7868 - val_loss: 0.6226 - val_acc: 0.7069\n",
      "Epoch 162/300\n",
      "652/652 [==============================] - 0s 565us/step - loss: 0.4743 - acc: 0.7684 - val_loss: 0.6571 - val_acc: 0.6466\n",
      "Epoch 163/300\n",
      "652/652 [==============================] - 0s 592us/step - loss: 0.4693 - acc: 0.7745 - val_loss: 0.5783 - val_acc: 0.7328\n",
      "Epoch 164/300\n",
      "652/652 [==============================] - 0s 583us/step - loss: 0.4685 - acc: 0.7791 - val_loss: 0.5886 - val_acc: 0.7328\n",
      "Epoch 165/300\n",
      "652/652 [==============================] - 0s 602us/step - loss: 0.4706 - acc: 0.7684 - val_loss: 0.5795 - val_acc: 0.7414\n",
      "Epoch 166/300\n",
      "652/652 [==============================] - 0s 585us/step - loss: 0.4597 - acc: 0.7699 - val_loss: 0.5880 - val_acc: 0.7241\n",
      "Epoch 167/300\n",
      "652/652 [==============================] - 0s 576us/step - loss: 0.4608 - acc: 0.7761 - val_loss: 0.6029 - val_acc: 0.7155\n",
      "Epoch 168/300\n",
      "652/652 [==============================] - 0s 583us/step - loss: 0.4864 - acc: 0.7623 - val_loss: 0.5909 - val_acc: 0.7241\n",
      "Epoch 169/300\n",
      "652/652 [==============================] - 0s 619us/step - loss: 0.4706 - acc: 0.7761 - val_loss: 0.5743 - val_acc: 0.7328\n",
      "Epoch 170/300\n",
      "652/652 [==============================] - 0s 594us/step - loss: 0.4866 - acc: 0.7684 - val_loss: 0.5625 - val_acc: 0.7586\n",
      "Epoch 171/300\n",
      "652/652 [==============================] - 0s 611us/step - loss: 0.4645 - acc: 0.7868 - val_loss: 0.5988 - val_acc: 0.7155\n",
      "Epoch 172/300\n",
      "652/652 [==============================] - 0s 601us/step - loss: 0.4564 - acc: 0.7822 - val_loss: 0.5930 - val_acc: 0.7414\n",
      "Epoch 173/300\n",
      "652/652 [==============================] - 0s 665us/step - loss: 0.4839 - acc: 0.7975 - val_loss: 0.5944 - val_acc: 0.7155\n",
      "Epoch 174/300\n",
      "652/652 [==============================] - 0s 634us/step - loss: 0.4698 - acc: 0.7837 - val_loss: 0.5720 - val_acc: 0.7586\n",
      "Epoch 175/300\n",
      "652/652 [==============================] - 0s 608us/step - loss: 0.4589 - acc: 0.7822 - val_loss: 0.5907 - val_acc: 0.7414\n",
      "Epoch 176/300\n",
      "652/652 [==============================] - 0s 628us/step - loss: 0.4530 - acc: 0.7807 - val_loss: 0.5921 - val_acc: 0.7500\n",
      "Epoch 177/300\n",
      "652/652 [==============================] - 0s 616us/step - loss: 0.4696 - acc: 0.7776 - val_loss: 0.6169 - val_acc: 0.7414\n",
      "Epoch 178/300\n",
      "652/652 [==============================] - 0s 656us/step - loss: 0.4835 - acc: 0.7684 - val_loss: 0.5711 - val_acc: 0.7414\n",
      "Epoch 179/300\n",
      "652/652 [==============================] - 0s 635us/step - loss: 0.4893 - acc: 0.7684 - val_loss: 0.5762 - val_acc: 0.7155\n",
      "Epoch 180/300\n",
      "652/652 [==============================] - 0s 641us/step - loss: 0.4571 - acc: 0.7699 - val_loss: 0.5716 - val_acc: 0.7328\n"
     ]
    },
    {
     "name": "stdout",
     "output_type": "stream",
     "text": [
      "Epoch 181/300\n",
      "652/652 [==============================] - 0s 637us/step - loss: 0.4586 - acc: 0.7807 - val_loss: 0.5913 - val_acc: 0.7241\n",
      "Epoch 182/300\n",
      "652/652 [==============================] - 0s 623us/step - loss: 0.4675 - acc: 0.7868 - val_loss: 0.6028 - val_acc: 0.7155\n",
      "Epoch 183/300\n",
      "652/652 [==============================] - 0s 653us/step - loss: 0.4676 - acc: 0.7699 - val_loss: 0.5844 - val_acc: 0.7069\n",
      "Epoch 184/300\n",
      "652/652 [==============================] - 0s 611us/step - loss: 0.4735 - acc: 0.7776 - val_loss: 0.5950 - val_acc: 0.7241\n",
      "Epoch 185/300\n",
      "652/652 [==============================] - 0s 617us/step - loss: 0.4568 - acc: 0.7699 - val_loss: 0.5780 - val_acc: 0.7155\n",
      "Epoch 186/300\n",
      "652/652 [==============================] - 0s 636us/step - loss: 0.4594 - acc: 0.7822 - val_loss: 0.5999 - val_acc: 0.6983\n",
      "Epoch 187/300\n",
      "652/652 [==============================] - 0s 619us/step - loss: 0.4624 - acc: 0.7929 - val_loss: 0.6154 - val_acc: 0.6983\n",
      "Epoch 188/300\n",
      "652/652 [==============================] - 0s 607us/step - loss: 0.4819 - acc: 0.7623 - val_loss: 0.5683 - val_acc: 0.7328\n",
      "Epoch 189/300\n",
      "652/652 [==============================] - 0s 624us/step - loss: 0.4561 - acc: 0.7745 - val_loss: 0.6011 - val_acc: 0.7069\n",
      "Epoch 190/300\n",
      "652/652 [==============================] - 0s 609us/step - loss: 0.4545 - acc: 0.7914 - val_loss: 0.5697 - val_acc: 0.7500\n",
      "Epoch 191/300\n",
      "652/652 [==============================] - 0s 626us/step - loss: 0.4586 - acc: 0.7914 - val_loss: 0.5763 - val_acc: 0.7241\n",
      "Epoch 192/300\n",
      "652/652 [==============================] - 0s 610us/step - loss: 0.4647 - acc: 0.7791 - val_loss: 0.5898 - val_acc: 0.7500\n",
      "Epoch 193/300\n",
      "652/652 [==============================] - 0s 592us/step - loss: 0.4496 - acc: 0.7960 - val_loss: 0.5731 - val_acc: 0.7845\n",
      "Epoch 194/300\n",
      "652/652 [==============================] - 0s 565us/step - loss: 0.4492 - acc: 0.7807 - val_loss: 0.5722 - val_acc: 0.7241\n",
      "Epoch 195/300\n",
      "652/652 [==============================] - 0s 616us/step - loss: 0.4571 - acc: 0.7822 - val_loss: 0.5832 - val_acc: 0.7586\n",
      "Epoch 196/300\n",
      "652/652 [==============================] - 0s 615us/step - loss: 0.4489 - acc: 0.7945 - val_loss: 0.5739 - val_acc: 0.7500\n",
      "Epoch 197/300\n",
      "652/652 [==============================] - 0s 579us/step - loss: 0.4737 - acc: 0.7561 - val_loss: 0.5748 - val_acc: 0.7155\n",
      "Epoch 198/300\n",
      "652/652 [==============================] - 0s 583us/step - loss: 0.4483 - acc: 0.7914 - val_loss: 0.6164 - val_acc: 0.6983\n",
      "Epoch 199/300\n",
      "652/652 [==============================] - 0s 610us/step - loss: 0.4751 - acc: 0.7638 - val_loss: 0.5811 - val_acc: 0.7414\n",
      "Epoch 200/300\n",
      "652/652 [==============================] - 0s 589us/step - loss: 0.4690 - acc: 0.7745 - val_loss: 0.5685 - val_acc: 0.7586\n",
      "Epoch 201/300\n",
      "652/652 [==============================] - 0s 611us/step - loss: 0.4500 - acc: 0.7960 - val_loss: 0.6258 - val_acc: 0.6897\n",
      "Epoch 202/300\n",
      "652/652 [==============================] - 0s 599us/step - loss: 0.4824 - acc: 0.7684 - val_loss: 0.5694 - val_acc: 0.7328\n",
      "Epoch 203/300\n",
      "652/652 [==============================] - 0s 597us/step - loss: 0.4511 - acc: 0.7822 - val_loss: 0.5844 - val_acc: 0.7069\n",
      "Epoch 204/300\n",
      "652/652 [==============================] - 0s 603us/step - loss: 0.4528 - acc: 0.7807 - val_loss: 0.5781 - val_acc: 0.7414\n",
      "Epoch 205/300\n",
      "652/652 [==============================] - 0s 613us/step - loss: 0.4616 - acc: 0.7853 - val_loss: 0.5964 - val_acc: 0.7155\n",
      "Epoch 206/300\n",
      "652/652 [==============================] - 0s 557us/step - loss: 0.4639 - acc: 0.7699 - val_loss: 0.5975 - val_acc: 0.7155\n",
      "Epoch 207/300\n",
      "652/652 [==============================] - 0s 601us/step - loss: 0.4672 - acc: 0.7776 - val_loss: 0.6362 - val_acc: 0.6724\n",
      "Epoch 208/300\n",
      "652/652 [==============================] - 0s 627us/step - loss: 0.4554 - acc: 0.7883 - val_loss: 0.6148 - val_acc: 0.6897\n",
      "Epoch 209/300\n",
      "652/652 [==============================] - 0s 637us/step - loss: 0.4536 - acc: 0.7791 - val_loss: 0.5653 - val_acc: 0.7586\n",
      "Epoch 210/300\n",
      "652/652 [==============================] - 0s 611us/step - loss: 0.4476 - acc: 0.7883 - val_loss: 0.5728 - val_acc: 0.7586\n",
      "Epoch 211/300\n",
      "652/652 [==============================] - 0s 603us/step - loss: 0.4434 - acc: 0.7899 - val_loss: 0.5683 - val_acc: 0.7845\n",
      "Epoch 212/300\n",
      "652/652 [==============================] - 0s 636us/step - loss: 0.4496 - acc: 0.7807 - val_loss: 0.5765 - val_acc: 0.7672\n",
      "Epoch 213/300\n",
      "652/652 [==============================] - 0s 613us/step - loss: 0.4476 - acc: 0.7883 - val_loss: 0.5871 - val_acc: 0.7241\n",
      "Epoch 214/300\n",
      "652/652 [==============================] - 0s 636us/step - loss: 0.4378 - acc: 0.8021 - val_loss: 0.6125 - val_acc: 0.7155\n",
      "Epoch 215/300\n",
      "652/652 [==============================] - 0s 624us/step - loss: 0.4516 - acc: 0.7807 - val_loss: 0.6039 - val_acc: 0.6897\n",
      "Epoch 216/300\n",
      "652/652 [==============================] - 0s 625us/step - loss: 0.4473 - acc: 0.7868 - val_loss: 0.5932 - val_acc: 0.7500\n",
      "Epoch 217/300\n",
      "652/652 [==============================] - 0s 627us/step - loss: 0.4474 - acc: 0.7837 - val_loss: 0.5743 - val_acc: 0.7500\n",
      "Epoch 218/300\n",
      "652/652 [==============================] - 0s 619us/step - loss: 0.4571 - acc: 0.7975 - val_loss: 0.5890 - val_acc: 0.7241\n",
      "Epoch 219/300\n",
      "652/652 [==============================] - 0s 613us/step - loss: 0.4529 - acc: 0.7807 - val_loss: 0.5588 - val_acc: 0.7586\n",
      "Epoch 220/300\n",
      "652/652 [==============================] - 0s 590us/step - loss: 0.4564 - acc: 0.7791 - val_loss: 0.5694 - val_acc: 0.7586\n",
      "Epoch 221/300\n",
      "652/652 [==============================] - 0s 603us/step - loss: 0.4570 - acc: 0.7791 - val_loss: 0.5708 - val_acc: 0.7328\n",
      "Epoch 222/300\n",
      "652/652 [==============================] - 0s 606us/step - loss: 0.4424 - acc: 0.7853 - val_loss: 0.6039 - val_acc: 0.6983\n",
      "Epoch 223/300\n",
      "652/652 [==============================] - 0s 622us/step - loss: 0.4430 - acc: 0.7837 - val_loss: 0.5689 - val_acc: 0.7672\n",
      "Epoch 224/300\n",
      "652/652 [==============================] - 0s 601us/step - loss: 0.4392 - acc: 0.7945 - val_loss: 0.5812 - val_acc: 0.7414\n",
      "Epoch 225/300\n",
      "652/652 [==============================] - 0s 596us/step - loss: 0.4547 - acc: 0.7853 - val_loss: 0.5750 - val_acc: 0.7414\n",
      "Epoch 226/300\n",
      "652/652 [==============================] - 0s 618us/step - loss: 0.4532 - acc: 0.7761 - val_loss: 0.5828 - val_acc: 0.7328\n",
      "Epoch 227/300\n",
      "652/652 [==============================] - 0s 589us/step - loss: 0.4541 - acc: 0.7853 - val_loss: 0.5865 - val_acc: 0.7414\n",
      "Epoch 228/300\n",
      "652/652 [==============================] - 0s 575us/step - loss: 0.4464 - acc: 0.7868 - val_loss: 0.5882 - val_acc: 0.7155\n",
      "Epoch 229/300\n",
      "652/652 [==============================] - 0s 603us/step - loss: 0.4387 - acc: 0.7929 - val_loss: 0.5950 - val_acc: 0.6983\n",
      "Epoch 230/300\n",
      "652/652 [==============================] - 0s 590us/step - loss: 0.4429 - acc: 0.7822 - val_loss: 0.5848 - val_acc: 0.7328\n",
      "Epoch 231/300\n",
      "652/652 [==============================] - 0s 594us/step - loss: 0.4420 - acc: 0.7945 - val_loss: 0.5936 - val_acc: 0.7414\n",
      "Epoch 232/300\n",
      "652/652 [==============================] - 0s 615us/step - loss: 0.4378 - acc: 0.8067 - val_loss: 0.5893 - val_acc: 0.7241\n",
      "Epoch 233/300\n",
      "652/652 [==============================] - 0s 624us/step - loss: 0.4477 - acc: 0.7945 - val_loss: 0.5912 - val_acc: 0.7586\n",
      "Epoch 234/300\n",
      "652/652 [==============================] - 0s 602us/step - loss: 0.4321 - acc: 0.7945 - val_loss: 0.5908 - val_acc: 0.7500\n",
      "Epoch 235/300\n",
      "652/652 [==============================] - 0s 599us/step - loss: 0.4420 - acc: 0.7853 - val_loss: 0.5879 - val_acc: 0.7500\n",
      "Epoch 236/300\n",
      "652/652 [==============================] - 0s 655us/step - loss: 0.4406 - acc: 0.7899 - val_loss: 0.5739 - val_acc: 0.7586\n",
      "Epoch 237/300\n",
      "652/652 [==============================] - 0s 633us/step - loss: 0.4382 - acc: 0.7960 - val_loss: 0.5976 - val_acc: 0.7414\n",
      "Epoch 238/300\n",
      "652/652 [==============================] - 0s 632us/step - loss: 0.4295 - acc: 0.8098 - val_loss: 0.5999 - val_acc: 0.6983\n",
      "Epoch 239/300\n",
      "652/652 [==============================] - 0s 638us/step - loss: 0.4434 - acc: 0.7960 - val_loss: 0.6592 - val_acc: 0.7069\n",
      "Epoch 240/300\n",
      "652/652 [==============================] - 0s 633us/step - loss: 0.4408 - acc: 0.7991 - val_loss: 0.5796 - val_acc: 0.7500\n"
     ]
    },
    {
     "name": "stdout",
     "output_type": "stream",
     "text": [
      "Epoch 241/300\n",
      "652/652 [==============================] - 0s 619us/step - loss: 0.4438 - acc: 0.7975 - val_loss: 0.5859 - val_acc: 0.7672\n",
      "Epoch 242/300\n",
      "652/652 [==============================] - 0s 624us/step - loss: 0.4356 - acc: 0.8006 - val_loss: 0.5890 - val_acc: 0.7241\n",
      "Epoch 243/300\n",
      "652/652 [==============================] - 0s 622us/step - loss: 0.4262 - acc: 0.8006 - val_loss: 0.5926 - val_acc: 0.7155\n",
      "Epoch 244/300\n",
      "652/652 [==============================] - 0s 617us/step - loss: 0.4430 - acc: 0.7975 - val_loss: 0.5799 - val_acc: 0.7414\n",
      "Epoch 245/300\n",
      "652/652 [==============================] - 0s 546us/step - loss: 0.4284 - acc: 0.8021 - val_loss: 0.5725 - val_acc: 0.7500\n",
      "Epoch 246/300\n",
      "652/652 [==============================] - 0s 599us/step - loss: 0.4472 - acc: 0.7975 - val_loss: 0.5796 - val_acc: 0.7241\n",
      "Epoch 247/300\n",
      "652/652 [==============================] - 0s 610us/step - loss: 0.4338 - acc: 0.7975 - val_loss: 0.5570 - val_acc: 0.7500\n",
      "Epoch 248/300\n",
      "652/652 [==============================] - 0s 613us/step - loss: 0.4317 - acc: 0.8083 - val_loss: 0.5874 - val_acc: 0.7586\n",
      "Epoch 249/300\n",
      "652/652 [==============================] - 0s 623us/step - loss: 0.4400 - acc: 0.7914 - val_loss: 0.6603 - val_acc: 0.7241\n",
      "Epoch 250/300\n",
      "652/652 [==============================] - 0s 565us/step - loss: 0.4425 - acc: 0.7914 - val_loss: 0.5695 - val_acc: 0.7500\n",
      "Epoch 251/300\n",
      "652/652 [==============================] - 0s 601us/step - loss: 0.4562 - acc: 0.7853 - val_loss: 0.5642 - val_acc: 0.7759\n",
      "Epoch 252/300\n",
      "652/652 [==============================] - 0s 601us/step - loss: 0.4351 - acc: 0.8021 - val_loss: 0.5833 - val_acc: 0.7155\n",
      "Epoch 253/300\n",
      "652/652 [==============================] - 0s 614us/step - loss: 0.4310 - acc: 0.7975 - val_loss: 0.5860 - val_acc: 0.6983\n",
      "Epoch 254/300\n",
      "652/652 [==============================] - 0s 637us/step - loss: 0.4309 - acc: 0.8083 - val_loss: 0.5751 - val_acc: 0.7586\n",
      "Epoch 255/300\n",
      "652/652 [==============================] - 0s 612us/step - loss: 0.4317 - acc: 0.8006 - val_loss: 0.5818 - val_acc: 0.7500\n",
      "Epoch 256/300\n",
      "652/652 [==============================] - 0s 599us/step - loss: 0.4369 - acc: 0.8006 - val_loss: 0.5815 - val_acc: 0.7328\n",
      "Epoch 257/300\n",
      "652/652 [==============================] - 0s 614us/step - loss: 0.4322 - acc: 0.7929 - val_loss: 0.5763 - val_acc: 0.7500\n",
      "Epoch 258/300\n",
      "652/652 [==============================] - 0s 610us/step - loss: 0.4388 - acc: 0.8021 - val_loss: 0.5838 - val_acc: 0.7414\n",
      "Epoch 259/300\n",
      "652/652 [==============================] - 0s 592us/step - loss: 0.4409 - acc: 0.7960 - val_loss: 0.5742 - val_acc: 0.7328\n",
      "Epoch 260/300\n",
      "652/652 [==============================] - 0s 593us/step - loss: 0.4595 - acc: 0.7868 - val_loss: 0.5950 - val_acc: 0.7155\n",
      "Epoch 261/300\n",
      "652/652 [==============================] - 0s 600us/step - loss: 0.4433 - acc: 0.7975 - val_loss: 0.5562 - val_acc: 0.7586\n",
      "Epoch 262/300\n",
      "652/652 [==============================] - 0s 604us/step - loss: 0.4308 - acc: 0.7945 - val_loss: 0.5843 - val_acc: 0.7586\n",
      "Epoch 263/300\n",
      "652/652 [==============================] - 0s 559us/step - loss: 0.4309 - acc: 0.7991 - val_loss: 0.6030 - val_acc: 0.7155\n",
      "Epoch 264/300\n",
      "652/652 [==============================] - 0s 601us/step - loss: 0.4283 - acc: 0.7975 - val_loss: 0.5808 - val_acc: 0.7241\n",
      "Epoch 265/300\n",
      "652/652 [==============================] - 0s 601us/step - loss: 0.4276 - acc: 0.7914 - val_loss: 0.5636 - val_acc: 0.7586\n",
      "Epoch 266/300\n",
      "652/652 [==============================] - 0s 607us/step - loss: 0.4361 - acc: 0.8021 - val_loss: 0.5704 - val_acc: 0.7414\n",
      "Epoch 267/300\n",
      "652/652 [==============================] - 0s 592us/step - loss: 0.4255 - acc: 0.8083 - val_loss: 0.5747 - val_acc: 0.7586\n",
      "Epoch 268/300\n",
      "652/652 [==============================] - 0s 592us/step - loss: 0.4280 - acc: 0.8113 - val_loss: 0.5765 - val_acc: 0.7500\n",
      "Epoch 269/300\n",
      "652/652 [==============================] - 0s 590us/step - loss: 0.4313 - acc: 0.7960 - val_loss: 0.5955 - val_acc: 0.7414\n",
      "Epoch 270/300\n",
      "652/652 [==============================] - 0s 614us/step - loss: 0.4236 - acc: 0.8113 - val_loss: 0.5662 - val_acc: 0.7500\n",
      "Epoch 271/300\n",
      "652/652 [==============================] - 0s 613us/step - loss: 0.4316 - acc: 0.8067 - val_loss: 0.5602 - val_acc: 0.7414\n",
      "Epoch 272/300\n",
      "652/652 [==============================] - 0s 555us/step - loss: 0.4282 - acc: 0.8098 - val_loss: 0.5777 - val_acc: 0.7069\n",
      "Epoch 273/300\n",
      "652/652 [==============================] - 0s 597us/step - loss: 0.4365 - acc: 0.7975 - val_loss: 0.5923 - val_acc: 0.6983\n",
      "Epoch 274/300\n",
      "652/652 [==============================] - 0s 609us/step - loss: 0.4441 - acc: 0.8021 - val_loss: 0.5824 - val_acc: 0.7328\n",
      "Epoch 275/300\n",
      "652/652 [==============================] - 0s 641us/step - loss: 0.4234 - acc: 0.7991 - val_loss: 0.5727 - val_acc: 0.7759\n",
      "Epoch 276/300\n",
      "652/652 [==============================] - 0s 617us/step - loss: 0.4322 - acc: 0.7899 - val_loss: 0.5733 - val_acc: 0.7672\n",
      "Epoch 277/300\n",
      "652/652 [==============================] - 0s 620us/step - loss: 0.4432 - acc: 0.7883 - val_loss: 0.5663 - val_acc: 0.7241\n",
      "Epoch 278/300\n",
      "652/652 [==============================] - 0s 608us/step - loss: 0.4337 - acc: 0.8006 - val_loss: 0.5711 - val_acc: 0.7500\n",
      "Epoch 279/300\n",
      "652/652 [==============================] - 0s 624us/step - loss: 0.4253 - acc: 0.8067 - val_loss: 0.5726 - val_acc: 0.7241\n",
      "Epoch 280/300\n",
      "652/652 [==============================] - 0s 628us/step - loss: 0.4259 - acc: 0.7929 - val_loss: 0.5861 - val_acc: 0.7414\n",
      "Epoch 281/300\n",
      "652/652 [==============================] - 0s 631us/step - loss: 0.4262 - acc: 0.8052 - val_loss: 0.5930 - val_acc: 0.7155\n",
      "Epoch 282/300\n",
      "652/652 [==============================] - 0s 613us/step - loss: 0.4284 - acc: 0.7929 - val_loss: 0.6404 - val_acc: 0.6724\n",
      "Epoch 283/300\n",
      "652/652 [==============================] - 0s 621us/step - loss: 0.4367 - acc: 0.7914 - val_loss: 0.5618 - val_acc: 0.7759\n",
      "Epoch 284/300\n",
      "652/652 [==============================] - 0s 604us/step - loss: 0.4373 - acc: 0.8052 - val_loss: 0.5573 - val_acc: 0.7672\n",
      "Epoch 285/300\n",
      "652/652 [==============================] - 0s 627us/step - loss: 0.4282 - acc: 0.7975 - val_loss: 0.5643 - val_acc: 0.7500\n",
      "Epoch 286/300\n",
      "652/652 [==============================] - 0s 617us/step - loss: 0.4210 - acc: 0.8037 - val_loss: 0.6300 - val_acc: 0.7241\n",
      "Epoch 287/300\n",
      "652/652 [==============================] - 0s 598us/step - loss: 0.4314 - acc: 0.7945 - val_loss: 0.6136 - val_acc: 0.6810\n",
      "Epoch 288/300\n",
      "652/652 [==============================] - 0s 582us/step - loss: 0.4334 - acc: 0.7960 - val_loss: 0.5690 - val_acc: 0.7672\n",
      "Epoch 289/300\n",
      "652/652 [==============================] - 0s 611us/step - loss: 0.4281 - acc: 0.8113 - val_loss: 0.5935 - val_acc: 0.7241\n",
      "Epoch 290/300\n",
      "652/652 [==============================] - 0s 605us/step - loss: 0.4256 - acc: 0.7929 - val_loss: 0.5952 - val_acc: 0.6897\n",
      "Epoch 291/300\n",
      "652/652 [==============================] - 0s 577us/step - loss: 0.4247 - acc: 0.7945 - val_loss: 0.6248 - val_acc: 0.7069\n",
      "Epoch 292/300\n",
      "652/652 [==============================] - 0s 600us/step - loss: 0.4200 - acc: 0.8067 - val_loss: 0.5729 - val_acc: 0.7759\n",
      "Epoch 293/300\n",
      "652/652 [==============================] - 0s 602us/step - loss: 0.4234 - acc: 0.8113 - val_loss: 0.5613 - val_acc: 0.7672\n",
      "Epoch 294/300\n",
      "652/652 [==============================] - 0s 593us/step - loss: 0.4196 - acc: 0.7991 - val_loss: 0.5669 - val_acc: 0.7414\n",
      "Epoch 295/300\n",
      "652/652 [==============================] - 0s 615us/step - loss: 0.4287 - acc: 0.7991 - val_loss: 0.5767 - val_acc: 0.7586\n",
      "Epoch 296/300\n",
      "652/652 [==============================] - 0s 594us/step - loss: 0.4347 - acc: 0.7883 - val_loss: 0.5874 - val_acc: 0.7069\n",
      "Epoch 297/300\n",
      "652/652 [==============================] - 0s 593us/step - loss: 0.4197 - acc: 0.8052 - val_loss: 0.5594 - val_acc: 0.7586\n",
      "Epoch 298/300\n",
      "652/652 [==============================] - 0s 598us/step - loss: 0.4188 - acc: 0.8037 - val_loss: 0.5633 - val_acc: 0.7414\n",
      "Epoch 299/300\n",
      "652/652 [==============================] - 0s 601us/step - loss: 0.4178 - acc: 0.8083 - val_loss: 0.6191 - val_acc: 0.6897\n",
      "Epoch 300/300\n",
      "652/652 [==============================] - 0s 625us/step - loss: 0.4190 - acc: 0.8113 - val_loss: 0.6281 - val_acc: 0.6983\n"
     ]
    }
   ],
   "source": [
    "# Fit the model\n",
    "#\n",
    "# Use 15% for Validation\n",
    "# Train for 300 epochs\n",
    "# User batch size = 10\n",
    "# Save the model fitting into the variable history\n",
    "# TODO\n",
    "history = model.fit(X_train,y_train,batch_size=10,epochs=300,verbose=1,validation_data=(X_test,y_test))"
   ]
  },
  {
   "cell_type": "code",
   "execution_count": 16,
   "metadata": {},
   "outputs": [
    {
     "name": "stdout",
     "output_type": "stream",
     "text": [
      "dict_keys(['val_loss', 'val_acc', 'loss', 'acc'])\n"
     ]
    }
   ],
   "source": [
    "# list all data in history\n",
    "print(history.history.keys())"
   ]
  },
  {
   "cell_type": "code",
   "execution_count": 17,
   "metadata": {},
   "outputs": [
    {
     "data": {
      "image/png": "[encoded data removed]",
      "text/plain": [
       "<Figure size 1152x576 with 1 Axes>"
      ]
     },
     "metadata": {},
     "output_type": "display_data"
    }
   ],
   "source": [
    "# Plot the History of Training Loss (history.history['loss']) and the Validation Loss (history.history['val_loss'])\n",
    "# Title should be \"Model Loss\"\n",
    "# x label: \"Loss\"\n",
    "# y label: \"Epoch\"\n",
    "# Legend: \"Train\" and \"Validation\"\n",
    "# TODO\n",
    "\n",
    "plt.figure(figsize=(16,8))\n",
    "fig1 = plt.plot(history.history['loss'])\n",
    "fig2 = plt.plot(history.history['val_loss'])\n",
    "plt.title('Model Loss')\n",
    "plt.xlabel('Epoch')\n",
    "plt.ylabel('Loss')\n",
    "plt.legend(['Train', 'Validation'])\n",
    "plt.show()"
   ]
  },
  {
   "cell_type": "code",
   "execution_count": 18,
   "metadata": {},
   "outputs": [
    {
     "data": {
      "image/png": "[encoded data removed]",
      "text/plain": [
       "<Figure size 1152x576 with 1 Axes>"
      ]
     },
     "metadata": {},
     "output_type": "display_data"
    }
   ],
   "source": [
    "# Plot the History of Training Accuracy (history.history['acc']) and \n",
    "# the Validation Accuracy (history.history['val_loss'])\n",
    "#\n",
    "# Title should be \"Model Accuracy\"\n",
    "# x label: \"Accuracy\"\n",
    "# y label: \"Epoch\"\n",
    "# Legend: \"Train\" and \"Validation\"\n",
    "# TODO\n",
    "\n",
    "plt.figure(figsize=(16,8))\n",
    "fig1 = plt.plot(history.history['acc'])\n",
    "fig2 = plt.plot(history.history['val_loss'])\n",
    "plt.title('Model Accuracy')\n",
    "plt.xlabel('Epoch')\n",
    "plt.ylabel('Accuracy')\n",
    "plt.legend(['Train', 'Validation'])\n",
    "plt.show()"
   ]
  },
  {
   "cell_type": "code",
   "execution_count": 19,
   "metadata": {},
   "outputs": [
    {
     "name": "stdout",
     "output_type": "stream",
     "text": [
      "116/116 [==============================] - 0s 68us/step\n"
     ]
    }
   ],
   "source": [
    "# Evaluate the loss and accuracy on the test data\n",
    "loss, accuracy = model.evaluate(X_test,y_test)"
   ]
  },
  {
   "cell_type": "code",
   "execution_count": 20,
   "metadata": {},
   "outputs": [
    {
     "name": "stdout",
     "output_type": "stream",
     "text": [
      "Test score: 0.6281011063477089\n",
      "Test accuracy: 0.6982758620689655\n"
     ]
    }
   ],
   "source": [
    "print('Test score:', loss)\n",
    "print('Test accuracy:', accuracy)"
   ]
  }
 ],
 "metadata": {
  "kernelspec": {
   "display_name": "Python 3",
   "language": "python",
   "name": "python3"
  },
  "language_info": {
   "codemirror_mode": {
    "name": "ipython",
    "version": 3
   },
   "file_extension": ".py",
   "mimetype": "text/x-python",
   "name": "python",
   "nbconvert_exporter": "python",
   "pygments_lexer": "ipython3",
   "version": "3.6.7"
  },
  "varInspector": {
   "cols": {
    "lenName": 16,
    "lenType": 16,
    "lenVar": 40
   },
   "kernels_config": {
    "python": {
     "delete_cmd_postfix": "",
     "delete_cmd_prefix": "del ",
     "library": "var_list.py",
     "varRefreshCmd": "print(var_dic_list())"
    },
    "r": {
     "delete_cmd_postfix": ") ",
     "delete_cmd_prefix": "rm(",
     "library": "var_list.r",
     "varRefreshCmd": "cat(var_dic_list()) "
    }
   },
   "types_to_exclude": [
    "module",
    "function",
    "builtin_function_or_method",
    "instance",
    "_Feature"
   ],
   "window_display": false
  }
 },
 "nbformat": 4,
 "nbformat_minor": 2
}
